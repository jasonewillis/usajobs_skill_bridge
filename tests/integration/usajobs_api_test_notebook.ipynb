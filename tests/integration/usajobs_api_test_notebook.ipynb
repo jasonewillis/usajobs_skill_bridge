{
 "cells": [
  {
   "cell_type": "markdown",
   "id": "c3320436",
   "metadata": {},
   "source": [
    "# 🇺🇸 USAJobs API Test Notebook"
   ]
  },
  {
   "cell_type": "code",
   "execution_count": null,
   "id": "d301fd1c",
   "metadata": {},
   "outputs": [],
   "source": [
    "from dotenv import load_dotenv\n",
    "import os\n",
    "import requests\n",
    "\n",
    "load_dotenv()\n",
    "USAJOBS_API_KEY = os.getenv(\"USAJOBS_API_KEY\")\n",
    "\n",
    "def fetch_usajobs_jobs(keyword=\"police\", location=\"Las Vegas, NV\"):\n",
    "    headers = {\n",
    "        \"Host\": \"data.usajobs.gov\",\n",
    "        \"User-Agent\": \"jasonewillis@gmail.com\",  # Replace with your registered email\n",
    "        \"Authorization-Key\": USAJOBS_API_KEY\n",
    "    }\n",
    "    params = {\n",
    "        \"Keyword\": keyword,\n",
    "        \"LocationName\": location,\n",
    "        \"ResultsPerPage\": 5\n",
    "    }\n",
    "    response = requests.get(\"https://data.usajobs.gov/api/Search\", headers=headers, params=params)\n",
    "    return response.json()\n"
   ]
  },
  {
   "cell_type": "code",
   "execution_count": null,
   "id": "ef4b6dca",
   "metadata": {},
   "outputs": [],
   "source": [
    "data = fetch_usajobs_jobs(\"police\", \"Las Vegas, NV\")\n",
    "for job in data.get(\"SearchResult\", {}).get(\"SearchResultItems\", []):\n",
    "    desc = job.get(\"MatchedObjectDescriptor\", {})\n",
    "    print(f\"{desc.get('PositionTitle')} — {desc.get('OrganizationName')}\")\n",
    "    print(f\"{desc.get('PositionLocationDisplay')} | {desc.get('PositionRemuneration', [{}])[0].get('MinimumRange')}–{desc.get('PositionRemuneration', [{}])[0].get('MaximumRange')}\")\n",
    "    print(\"—\" * 60)\n"
   ]
  }
 ],
 "metadata": {
  "language_info": {
   "name": "python"
  }
 },
 "nbformat": 4,
 "nbformat_minor": 5
}
